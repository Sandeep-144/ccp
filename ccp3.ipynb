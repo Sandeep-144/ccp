{
 "cells": [
  {
   "cell_type": "code",
   "execution_count": 1,
   "metadata": {},
   "outputs": [],
   "source": [
    "import numpy as np\n",
    "import pandas as pd\n",
    "import matplotlib.pyplot as plt\n",
    "import seaborn as sns\n",
    "import tensorflow as tf\n",
    "from tensorflow.keras.models import Sequential, Model\n",
    "from tensorflow.keras.layers import Dense, Dropout, Input, BatchNormalization\n",
    "from sklearn.model_selection import train_test_split\n",
    "from sklearn.preprocessing import StandardScaler, LabelEncoder, PolynomialFeatures\n",
    "from sklearn.metrics import confusion_matrix, classification_report, accuracy_score, roc_curve, auc\n",
    "from imblearn.over_sampling import SMOTE"
   ]
  },
  {
   "cell_type": "code",
   "execution_count": 2,
   "metadata": {},
   "outputs": [],
   "source": [
    "df = pd.read_csv(\"Customer Churn.csv\")"
   ]
  },
  {
   "cell_type": "code",
   "execution_count": 3,
   "metadata": {},
   "outputs": [],
   "source": [
    "df = df.drop(columns=['Age'])"
   ]
  },
  {
   "cell_type": "code",
   "execution_count": 4,
   "metadata": {},
   "outputs": [],
   "source": [
    "label_encoders = {}\n",
    "for col in ['Tariff Plan', 'Status', 'Age Group']:\n",
    "    le = LabelEncoder()\n",
    "    df[col] = le.fit_transform(df[col])\n",
    "    label_encoders[col] = le"
   ]
  },
  {
   "cell_type": "code",
   "execution_count": 5,
   "metadata": {},
   "outputs": [],
   "source": [
    "X = df.drop(columns=['Churn'])\n",
    "y = df['Churn']"
   ]
  },
  {
   "cell_type": "code",
   "execution_count": 6,
   "metadata": {},
   "outputs": [],
   "source": [
    "X.fillna(X.median(), inplace=True)\n",
    "y.fillna(y.median(), inplace=True)"
   ]
  },
  {
   "cell_type": "code",
   "execution_count": 7,
   "metadata": {},
   "outputs": [],
   "source": [
    "X_train, X_test, y_train, y_test = train_test_split(X, y, test_size=0.2, random_state=42)"
   ]
  },
  {
   "cell_type": "code",
   "execution_count": 8,
   "metadata": {},
   "outputs": [],
   "source": [
    "smote = SMOTE(random_state=42)\n",
    "X_train, y_train = smote.fit_resample(X_train, y_train)"
   ]
  },
  {
   "cell_type": "code",
   "execution_count": 9,
   "metadata": {},
   "outputs": [],
   "source": [
    "scaler = StandardScaler()\n",
    "X_train = scaler.fit_transform(X_train)\n",
    "X_test = scaler.transform(X_test)"
   ]
  },
  {
   "cell_type": "code",
   "execution_count": 10,
   "metadata": {},
   "outputs": [
    {
     "name": "stdout",
     "output_type": "stream",
     "text": [
      "\u001b[1m134/134\u001b[0m \u001b[32m━━━━━━━━━━━━━━━━━━━━\u001b[0m\u001b[37m\u001b[0m \u001b[1m0s\u001b[0m 1ms/step\n"
     ]
    }
   ],
   "source": [
    "# Variational Autoencoder (VAE) for Synthetic Data Generation\n",
    "def build_vae(input_dim):\n",
    "    encoding_dim = 8\n",
    "    inputs = Input(shape=(input_dim,))\n",
    "    x = Dense(16, activation='relu')(inputs)\n",
    "    x = Dense(encoding_dim, activation='relu')(x)\n",
    "    x = Dense(16, activation='relu')(x)\n",
    "    outputs = Dense(input_dim, activation='linear')(x)\n",
    "    \n",
    "    vae = Model(inputs, outputs)\n",
    "    vae.compile(optimizer='adam', loss='mse')\n",
    "    return vae\n",
    "\n",
    "vae = build_vae(X_train.shape[1])\n",
    "vae.fit(X_train, X_train, epochs=50, batch_size=16, verbose=0)\n",
    "X_synthetic = vae.predict(X_train)"
   ]
  },
  {
   "cell_type": "code",
   "execution_count": 11,
   "metadata": {},
   "outputs": [
    {
     "name": "stderr",
     "output_type": "stream",
     "text": [
      "C:\\Users\\maliv\\AppData\\Roaming\\Python\\Python312\\site-packages\\keras\\src\\layers\\core\\dense.py:88: UserWarning: Do not pass an `input_shape`/`input_dim` argument to a layer. When using Sequential models, prefer using an `Input(shape)` object as the first layer in the model instead.\n",
      "  super().__init__(activity_regularizer=activity_regularizer, **kwargs)\n"
     ]
    }
   ],
   "source": [
    "# ANN Model\n",
    "model = Sequential([\n",
    "    Dense(64, activation='relu', input_shape=(X_train.shape[1],)), #X_train.shape[1],\n",
    "    BatchNormalization(),\n",
    "    Dropout(0.3),\n",
    "    Dense(32, activation='relu'),\n",
    "    Dropout(0.2),\n",
    "    Dense(1, activation='sigmoid')\n",
    "])"
   ]
  },
  {
   "cell_type": "code",
   "execution_count": 12,
   "metadata": {},
   "outputs": [],
   "source": [
    "model.compile(optimizer='adam', loss='binary_crossentropy', metrics=['accuracy'])"
   ]
  },
  {
   "cell_type": "code",
   "execution_count": 13,
   "metadata": {},
   "outputs": [],
   "source": [
    "history = model.fit(X_train, y_train, epochs=50, batch_size=16, validation_data=(X_test, y_test), verbose=0)"
   ]
  },
  {
   "cell_type": "code",
   "execution_count": 14,
   "metadata": {},
   "outputs": [
    {
     "name": "stdout",
     "output_type": "stream",
     "text": [
      "\u001b[1m20/20\u001b[0m \u001b[32m━━━━━━━━━━━━━━━━━━━━\u001b[0m\u001b[37m\u001b[0m \u001b[1m0s\u001b[0m 6ms/step\n",
      "Classification Report:\n",
      "               precision    recall  f1-score   support\n",
      "\n",
      "           0       0.99      0.92      0.95       520\n",
      "           1       0.72      0.95      0.82       110\n",
      "\n",
      "    accuracy                           0.93       630\n",
      "   macro avg       0.85      0.93      0.88       630\n",
      "weighted avg       0.94      0.93      0.93       630\n",
      "\n",
      "Accuracy Score: 0.9253968253968254\n"
     ]
    }
   ],
   "source": [
    "# Model Evaluation\n",
    "y_pred = (model.predict(X_test) > 0.5).astype(\"int32\")\n",
    "print(\"Classification Report:\\n\", classification_report(y_test, y_pred))\n",
    "print(\"Accuracy Score:\", accuracy_score(y_test, y_pred))"
   ]
  },
  {
   "cell_type": "code",
   "execution_count": 15,
   "metadata": {},
   "outputs": [
    {
     "data": {
      "image/png": "[encoded data removed]",
      "text/plain": [
       "<Figure size 640x480 with 2 Axes>"
      ]
     },
     "metadata": {},
     "output_type": "display_data"
    }
   ],
   "source": [
    "# Confusion Matrix\n",
    "cm = confusion_matrix(y_test, y_pred)\n",
    "sns.heatmap(cm, annot=True, fmt='d', cmap='coolwarm', xticklabels=['No Churn', 'Churn'], yticklabels=['No Churn', 'Churn'])\n",
    "plt.xlabel('Predicted')\n",
    "plt.ylabel('Actual')\n",
    "plt.title('Confusion Matrix')\n",
    "plt.show()"
   ]
  },
  {
   "cell_type": "code",
   "execution_count": 16,
   "metadata": {},
   "outputs": [
    {
     "name": "stdout",
     "output_type": "stream",
     "text": [
      "\u001b[1m20/20\u001b[0m \u001b[32m━━━━━━━━━━━━━━━━━━━━\u001b[0m\u001b[37m\u001b[0m \u001b[1m0s\u001b[0m 2ms/step \n"
     ]
    },
    {
     "data": {
      "image/png": "[encoded data removed]",
      "text/plain": [
       "<Figure size 640x480 with 1 Axes>"
      ]
     },
     "metadata": {},
     "output_type": "display_data"
    }
   ],
   "source": [
    "y_prob = model.predict(X_test)\n",
    "fpr, tpr, _ = roc_curve(y_test, y_prob)\n",
    "roc_auc = auc(fpr, tpr)\n",
    "plt.plot(fpr, tpr, label=f'ROC curve (area = {roc_auc:.2f}')\n",
    "plt.plot([0, 1], [0, 1], 'k--')\n",
    "plt.xlabel('False Positive Rate')\n",
    "plt.ylabel('True Positive Rate')\n",
    "plt.title('Receiver Operating Characteristic (ROC) Curve')\n",
    "plt.legend()\n",
    "plt.show()"
   ]
  },
  {
   "cell_type": "code",
   "execution_count": 17,
   "metadata": {},
   "outputs": [
    {
     "name": "stderr",
     "output_type": "stream",
     "text": [
      "WARNING:absl:You are saving your model as an HDF5 file via `model.save()` or `keras.saving.save_model(model)`. This file format is considered legacy. We recommend using instead the native Keras format, e.g. `model.save('my_model.keras')` or `keras.saving.save_model(model, 'my_model.keras')`. \n"
     ]
    }
   ],
   "source": [
    "model.save(\"churn_model.h5\")"
   ]
  },
  {
   "cell_type": "code",
   "execution_count": 18,
   "metadata": {},
   "outputs": [],
   "source": [
    "model.save(\"churn_model.keras\")"
   ]
  },
  {
   "cell_type": "code",
   "execution_count": 19,
   "metadata": {},
   "outputs": [
    {
     "name": "stdout",
     "output_type": "stream",
     "text": [
      "\u001b[1m1/1\u001b[0m \u001b[32m━━━━━━━━━━━━━━━━━━━━\u001b[0m\u001b[37m\u001b[0m \u001b[1m0s\u001b[0m 111ms/step"
     ]
    },
    {
     "name": "stderr",
     "output_type": "stream",
     "text": [
      "C:\\Users\\maliv\\AppData\\Roaming\\Python\\Python312\\site-packages\\keras\\src\\saving\\saving_lib.py:396: UserWarning: Skipping variable loading for optimizer 'rmsprop', because it has 10 variables whereas the saved optimizer has 18 variables. \n",
      "  trackable.load_own_variables(weights_store.get(inner_path))\n"
     ]
    },
    {
     "name": "stdout",
     "output_type": "stream",
     "text": [
      "\u001b[1m1/1\u001b[0m \u001b[32m━━━━━━━━━━━━━━━━━━━━\u001b[0m\u001b[37m\u001b[0m \u001b[1m0s\u001b[0m 111ms/step\n",
      "Churn Probability: 0.00\n",
      "Predicted Class: No Churn\n"
     ]
    }
   ],
   "source": [
    "import numpy as np\n",
    "import pandas as pd\n",
    "import tensorflow as tf\n",
    "from tensorflow.keras.models import load_model\n",
    "from sklearn.preprocessing import StandardScaler, LabelEncoder\n",
    "\n",
    "# Load Data\n",
    "df = pd.read_csv(\"Customer Churn.csv\")\n",
    "df = df.drop(columns=['Age'])  # Ensure this column was removed in training\n",
    "\n",
    "# Label Encoding\n",
    "label_encoders = {}\n",
    "for col in ['Tariff Plan', 'Status', 'Age Group']:\n",
    "    le = LabelEncoder()\n",
    "    df[col] = le.fit_transform(df[col])\n",
    "    label_encoders[col] = le\n",
    "\n",
    "# Prepare Feature Set\n",
    "X = df.drop(columns=['Churn'])\n",
    "y = df['Churn']\n",
    "\n",
    "# Load the Scaler and Model\n",
    "scaler = StandardScaler()\n",
    "X_scaled = scaler.fit_transform(X)  # Fit the scaler on training data\n",
    "# model = load_model(\"churn_model.h5\")  # Load the trained model\n",
    "model = load_model(\"churn_model.keras\")  # Load the trained model\n",
    "\n",
    "# **New Customer Data (Ensure it Matches X.columns)**\n",
    "new_customer = {\n",
    "    \"Call  Failure\": 5,\n",
    "    \"Complains\": 0,\n",
    "    \"Subscription  Length\": 12,\n",
    "    \"Charge  Amount\": 50.0,\n",
    "    \"Seconds of Use\": 2000,\n",
    "    \"Frequency of use\": 15,\n",
    "    \"Customer Value\": 500,\n",
    "    \"Tariff Plan\": \"Standard\",\n",
    "    \"Status\": \"Active\",\n",
    "    \"Age Group\": \"Adult\",\n",
    "    \"Frequency of SMS\": 20,\n",
    "    \"Distinct Called Numbers\": 30\n",
    "}\n",
    "\n",
    "# Convert to DataFrame\n",
    "new_customer_df = pd.DataFrame([new_customer])\n",
    "\n",
    "# Handle Missing Columns\n",
    "missing_cols = set(X.columns) - set(new_customer_df.columns)\n",
    "for col in missing_cols:\n",
    "    new_customer_df[col] = 0  # Assign default value (modify if necessary)\n",
    "\n",
    "# Handle Categorical Encoding\n",
    "for col in ['Tariff Plan', 'Status', 'Age Group']:\n",
    "    if new_customer_df[col][0] in label_encoders[col].classes_:\n",
    "        new_customer_df[col] = label_encoders[col].transform([new_customer_df[col][0]])\n",
    "    else:\n",
    "        new_customer_df[col] = -1  # Assign unknown category\n",
    "\n",
    "# Ensure Column Order Matches Training Data\n",
    "new_customer_df = new_customer_df[X.columns]\n",
    "\n",
    "# Apply Scaling\n",
    "new_customer_scaled = scaler.transform(new_customer_df)\n",
    "\n",
    "# Predict Churn Probability\n",
    "churn_probability = model.predict(new_customer_scaled)[0][0]\n",
    "\n",
    "# Convert to Binary Class\n",
    "churn_prediction = \"Churn\" if churn_probability > 0.5 else \"No Churn\"\n",
    "\n",
    "# Output Result\n",
    "print(f\"Churn Probability: {churn_probability:.2f}\")\n",
    "print(f\"Predicted Class: {churn_prediction}\")\n"
   ]
  },
  {
   "cell_type": "code",
   "execution_count": 20,
   "metadata": {},
   "outputs": [
    {
     "data": {
      "text/plain": [
       "['X_columns.pkl']"
      ]
     },
     "execution_count": 20,
     "metadata": {},
     "output_type": "execute_result"
    }
   ],
   "source": [
    "import joblib\n",
    "\n",
    "# Save scaler, label encoders, and feature column order\n",
    "joblib.dump(scaler, \"scaler.pkl\")\n",
    "joblib.dump(label_encoders, \"label_encoders.pkl\")\n",
    "joblib.dump(X.columns.tolist(), \"X_columns.pkl\")\n"
   ]
  },
  {
   "cell_type": "code",
   "execution_count": 21,
   "metadata": {},
   "outputs": [
    {
     "name": "stdout",
     "output_type": "stream",
     "text": [
      "\u001b[1m1/1\u001b[0m \u001b[32m━━━━━━━━━━━━━━━━━━━━\u001b[0m\u001b[37m\u001b[0m \u001b[1m0s\u001b[0m 95ms/step\n",
      "Predicted churn probability: 1.0000\n"
     ]
    },
    {
     "name": "stderr",
     "output_type": "stream",
     "text": [
      "C:\\Users\\maliv\\AppData\\Roaming\\Python\\Python312\\site-packages\\keras\\src\\saving\\saving_lib.py:396: UserWarning: Skipping variable loading for optimizer 'rmsprop', because it has 10 variables whereas the saved optimizer has 18 variables. \n",
      "  trackable.load_own_variables(weights_store.get(inner_path))\n"
     ]
    }
   ],
   "source": [
    "# TEST SCRIPT (outside Streamlit)\n",
    "\n",
    "import numpy as np\n",
    "import pandas as pd\n",
    "from tensorflow.keras.models import load_model\n",
    "import joblib\n",
    "\n",
    "model = load_model(\"churn_model.keras\")\n",
    "scaler = joblib.load(\"scaler.pkl\")\n",
    "label_encoders = joblib.load(\"label_encoders.pkl\")\n",
    "\n",
    "# Create a high-risk customer\n",
    "data = {\n",
    "    \"Call  Failure\": 10,\n",
    "    \"Complains\": 1,\n",
    "    \"Subscription  Length\": 1,\n",
    "    \"Charge  Amount\": 10.0,\n",
    "    \"Seconds of Use\": np.log1p(100),  # log transformed\n",
    "    \"Frequency of use\": 1,\n",
    "    \"Frequency of SMS\": 0,\n",
    "    \"Tariff Plan\": \"Premium\",\n",
    "    \"Status\": \"Married\",\n",
    "    \"Age Group\": \"50+\",\n",
    "    \"Customer Value\": 0,\n",
    "    \"Distinct Called Numbers\": 1\n",
    "}\n",
    "df = pd.DataFrame([data])\n",
    "\n",
    "# Encode categoricals\n",
    "for col in [\"Tariff Plan\", \"Status\", \"Age Group\"]:\n",
    "    if data[col] in label_encoders[col].classes_:\n",
    "        df[col] = label_encoders[col].transform([data[col]])\n",
    "    else:\n",
    "        df[col] = -1\n",
    "\n",
    "# Match column order\n",
    "df = df[scaler.feature_names_in_]\n",
    "\n",
    "# Scale\n",
    "X = scaler.transform(df)\n",
    "\n",
    "# Predict\n",
    "pred = model.predict(X)[0][0]\n",
    "print(f\"Predicted churn probability: {pred:.4f}\")\n"
   ]
  }
 ],
 "metadata": {
  "kernelspec": {
   "display_name": "Python 3",
   "language": "python",
   "name": "python3"
  },
  "language_info": {
   "codemirror_mode": {
    "name": "ipython",
    "version": 3
   },
   "file_extension": ".py",
   "mimetype": "text/x-python",
   "name": "python",
   "nbconvert_exporter": "python",
   "pygments_lexer": "ipython3",
   "version": "3.12.1"
  }
 },
 "nbformat": 4,
 "nbformat_minor": 2
}
